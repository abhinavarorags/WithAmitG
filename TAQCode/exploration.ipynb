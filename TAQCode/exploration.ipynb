{
 "cells": [
  {
   "cell_type": "code",
   "execution_count": 1,
   "id": "d17a76f8-b9d3-45f2-b1ea-a997ad8e441f",
   "metadata": {},
   "outputs": [],
   "source": [
    "#Directory Structure\n",
    "#~/Documents/TAQData <--- has the parquet files\n",
    "#~/gitcode/AmitG/TAQCode <--- has the jupypter and python code\n"
   ]
  },
  {
   "cell_type": "code",
   "execution_count": 2,
   "id": "e9c7940b-4b03-4a2c-82de-777c857393f4",
   "metadata": {},
   "outputs": [
    {
     "name": "stdout",
     "output_type": "stream",
     "text": [
      "🧾 Quotes schema:\n",
      "DATE: date32[day]\n",
      "TIME_M: time64[ns]\n",
      "EX: large_string\n",
      "BID: double\n",
      "BIDSIZ: int64\n",
      "ASK: double\n",
      "ASKSIZ: int64\n",
      "QU_COND: large_string\n",
      "QU_SEQNUM: int64\n",
      "NATBBO_IND: large_string\n",
      "QU_CANCEL: large_string\n",
      "QU_SOURCE: large_string\n",
      "SYM_ROOT: large_string\n",
      "SYM_SUFFIX: large_string\n",
      "\n",
      "💹 Trades schema:\n",
      "date: date32[day]\n",
      "time_m: time64[us]\n",
      "time_m_nano: int16\n",
      "ex: string\n",
      "sym_root: string\n",
      "sym_suffix: string\n",
      "tr_scond: string\n",
      "size: int32\n",
      "price: double\n",
      "tr_stop_ind: string\n",
      "tr_corr: string\n",
      "tr_seqnum: int64\n",
      "tr_id: string\n",
      "tr_source: string\n",
      "tr_rf: string\n",
      "part_time: time64[us]\n",
      "part_time_nano: int16\n",
      "trf_time: time64[us]\n",
      "trf_time_nano: int16\n",
      "tte_ind: string\n"
     ]
    }
   ],
   "source": [
    "import pyarrow.parquet as pq\n",
    "\n",
    "# ---- quotes file ----\n",
    "quotes_path = '~/Documents/TAQData/data_quotes_2023_12_15.parquet'\n",
    "pf_quotes = pq.ParquetFile(quotes_path)\n",
    "print(\"🧾 Quotes schema:\")\n",
    "print(pf_quotes.schema_arrow)     # column names and types only\n",
    "\n",
    "# ---- trades file ----\n",
    "trades_path = '~/Documents/TAQData/data_trades_2023_12_15.parquet'\n",
    "pf_trades = pq.ParquetFile(trades_path)\n",
    "print(\"\\n💹 Trades schema:\")\n",
    "print(pf_trades.schema_arrow)\n"
   ]
  },
  {
   "cell_type": "code",
   "execution_count": 3,
   "id": "cca3928b-bc88-4370-bb8f-602f1a178c19",
   "metadata": {},
   "outputs": [
    {
     "name": "stdout",
     "output_type": "stream",
     "text": [
      "Quotes rows: 1,957,290,808\n",
      "Trades rows: 89,518,138\n"
     ]
    }
   ],
   "source": [
    "import pyarrow.parquet as pq\n",
    "\n",
    "# Paths to your files\n",
    "quotes_path = '~/Documents/TAQData/data_quotes_2023_12_15.parquet'\n",
    "trades_path = '~/Documents/TAQData/data_trades_2023_12_15.parquet'\n",
    "\n",
    "# Efficiently count rows without loading data\n",
    "quotes_rows = pq.ParquetFile(quotes_path).metadata.num_rows\n",
    "trades_rows = pq.ParquetFile(trades_path).metadata.num_rows\n",
    "\n",
    "print(f\"Quotes rows: {quotes_rows:,}\")\n",
    "print(f\"Trades rows: {trades_rows:,}\")\n"
   ]
  },
  {
   "cell_type": "code",
   "execution_count": 4,
   "id": "53370558-e58c-42be-ba84-ce4d2ee6ef88",
   "metadata": {},
   "outputs": [
    {
     "name": "stdout",
     "output_type": "stream",
     "text": [
      "Quotes date range: 2023-12-15 → 2023-12-15\n",
      "Trades date range: 2023-12-15 → 2023-12-15\n"
     ]
    }
   ],
   "source": [
    "import pyarrow.parquet as pq\n",
    "import os\n",
    "\n",
    "DATA_DIR = \"~/Documents/TAQData\"\n",
    "quotes_path = os.path.expanduser(f\"{DATA_DIR}/data_quotes_2023_12_15.parquet\")\n",
    "trades_path = os.path.expanduser(f\"{DATA_DIR}/data_trades_2023_12_15.parquet\")\n",
    "\n",
    "def parquet_date_range(path, date_col):\n",
    "    pf = pq.ParquetFile(path)\n",
    "    for rg in range(pf.num_row_groups):\n",
    "        df = pf.read_row_group(rg, columns=[date_col]).to_pandas()\n",
    "        if not df.empty:\n",
    "            dmin, dmax = df[date_col].min(), df[date_col].max()\n",
    "            return dmin, dmax\n",
    "    return None, None\n",
    "\n",
    "quote_min, quote_max = parquet_date_range(quotes_path, \"DATE\")\n",
    "trade_min, trade_max = parquet_date_range(trades_path, \"date\")\n",
    "\n",
    "print(f\"Quotes date range: {quote_min} → {quote_max}\")\n",
    "print(f\"Trades date range: {trade_min} → {trade_max}\")\n"
   ]
  },
  {
   "cell_type": "code",
   "execution_count": 1,
   "id": "10878ede-05ee-4e4a-8eb4-2dfdf261d796",
   "metadata": {},
   "outputs": [
    {
     "name": "stdout",
     "output_type": "stream",
     "text": [
      "    sym_root sym_suffix     cnt\n",
      "24      AAPL       NONE  625486\n",
      "122     ADBE       NONE  140747\n",
      "1         AA       NONE  128766\n",
      "15       AAL       NONE   94629\n",
      "52       ABT       NONE   77437\n",
      "45      ABNB       NONE   76272\n",
      "133      ADI       NONE   73992\n",
      "32      ABBV       NONE   69560\n",
      "165      AEE       NONE   68983\n",
      "136      ADM       NONE   50396\n",
      "91       ACN       NONE   48587\n",
      "0          A       NONE   46061\n",
      "75      ACGL       NONE   45061\n",
      "150     ADSK       NONE   43176\n",
      "180      AEO       NONE   42705\n",
      "144      ADP       NONE   38899\n",
      "176      AEM       NONE   35980\n",
      "47       ABR       NONE   35705\n",
      "19      AAOI       NONE   35294\n",
      "10      AADI       NONE   32126\n",
      "183      AEP       NONE   30936\n",
      "21       AAP       NONE   28638\n",
      "61      ACAD       NONE   26610\n",
      "79      ACHR       NONE   26189\n",
      "82       ACI       NONE   24420\n"
     ]
    }
   ],
   "source": [
    "# 1) What symbols are actually present? (first ~20 row groups, TRADES)\n",
    "import pyarrow.parquet as pq, pandas as pd, os\n",
    "TRADES_FILE = os.path.expanduser(\"~/Documents/TAQData/data_trades_2023_12_15.parquet\")\n",
    "pf = pq.ParquetFile(TRADES_FILE)\n",
    "\n",
    "seen = []\n",
    "for rg in range(min(20, pf.num_row_groups)):\n",
    "    df = pf.read_row_group(rg, columns=[\"sym_root\",\"sym_suffix\"]).to_pandas()\n",
    "    df[\"sym_root\"]  = df[\"sym_root\"].astype(str).str.strip().str.upper()\n",
    "    df[\"sym_suffix\"]= df[\"sym_suffix\"].astype(str).fillna(\"\").str.strip().str.upper()\n",
    "    seen.append(df.groupby([\"sym_root\",\"sym_suffix\"]).size().reset_index(name=\"cnt\"))\n",
    "present = pd.concat(seen).groupby([\"sym_root\",\"sym_suffix\"])[\"cnt\"].sum().reset_index().sort_values(\"cnt\", ascending=False)\n",
    "print(present.head(25))\n"
   ]
  },
  {
   "cell_type": "code",
   "execution_count": 12,
   "id": "eca0fb98-2fc2-43e6-9c05-9ed18d25d653",
   "metadata": {},
   "outputs": [
    {
     "data": {
      "text/plain": [
       "polars.config.Config"
      ]
     },
     "execution_count": 12,
     "metadata": {},
     "output_type": "execute_result"
    }
   ],
   "source": [
    "#polar_try_partitioned.py for quotes and trades\n",
    "import polars as pl\n",
    "pl.Config.set_tbl_cols(50) \n",
    "pl.Config.set_tbl_width_chars(200)\n",
    "pl.Config.set_tbl_rows(200) #polars.Config.tbl_rows = 50\n",
    "#rename.py shall rename the cols of trades to uppercase and save since easier for joining"
   ]
  },
  {
   "cell_type": "code",
   "execution_count": 6,
   "id": "13715247-4d0f-4b05-bf26-87a77912da99",
   "metadata": {},
   "outputs": [
    {
     "name": "stdout",
     "output_type": "stream",
     "text": [
      "Schema({'DATE': Date, 'TIME_M': Time, 'TIME_M_NANO': Int16, 'EX': String, 'SYM_ROOT': String, 'SYM_SUFFIX': String, 'TR_SCOND': String, 'SIZE': Int32, 'PRICE': Float64, 'TR_STOP_IND': String, 'TR_CORR': String, 'TR_SEQNUM': Int64, 'TR_ID': String, 'TR_SOURCE': String, 'TR_RF': String, 'PART_TIME': Time, 'PART_TIME_NANO': Int16, 'TRF_TIME': Time, 'TRF_TIME_NANO': Int16, 'TTE_IND': String})\n"
     ]
    }
   ],
   "source": [
    "import polars as pl\n",
    "import os\n",
    "\n",
    "# Define the directory and pattern\n",
    "directory = \"../TAQData/processed_output_trades_upper\"\n",
    "pattern = os.path.join(directory, \"chunk_*.parquet\")\n",
    "\n",
    "# Create a LazyFrame from all matching Parquet files\n",
    "lazy_df = pl.scan_parquet(pattern)\n",
    "\n",
    "# Access the schema (column names and types)\n",
    "schema = lazy_df.collect_schema()\n",
    "\n",
    "# Print the schema\n",
    "print(schema)"
   ]
  },
  {
   "cell_type": "code",
   "execution_count": 14,
   "id": "50d0961c-61e2-4aab-884a-f71a52f47979",
   "metadata": {},
   "outputs": [
    {
     "name": "stdout",
     "output_type": "stream",
     "text": [
      "shape: (10, 14)\n",
      "┌────────────┬──────────────────┬─────┬────────┬───┬───────────┬───────────┬──────────┬────────────┐\n",
      "│ DATE       ┆ TIME_M           ┆ EX  ┆ BID    ┆ … ┆ QU_CANCEL ┆ QU_SOURCE ┆ SYM_ROOT ┆ SYM_SUFFIX │\n",
      "│ ---        ┆ ---              ┆ --- ┆ ---    ┆   ┆ ---       ┆ ---       ┆ ---      ┆ ---        │\n",
      "│ date       ┆ time             ┆ str ┆ f64    ┆   ┆ str       ┆ str       ┆ str      ┆ str        │\n",
      "╞════════════╪══════════════════╪═════╪════════╪═══╪═══════════╪═══════════╪══════════╪════════════╡\n",
      "│ 2023-12-15 ┆ 03:59:00.1149253 ┆ Z   ┆ 0.0    ┆ … ┆ null      ┆ N         ┆ AAPL     ┆ null       │\n",
      "│            ┆ 77               ┆     ┆        ┆   ┆           ┆           ┆          ┆            │\n",
      "│ 2023-12-15 ┆ 03:59:00.1854122 ┆ K   ┆ 0.0    ┆ … ┆ null      ┆ N         ┆ AAPL     ┆ null       │\n",
      "│            ┆ 94               ┆     ┆        ┆   ┆           ┆           ┆          ┆            │\n",
      "│ 2023-12-15 ┆ 04:00:00.0044523 ┆ K   ┆ 197.53 ┆ … ┆ null      ┆ N         ┆ AAPL     ┆ null       │\n",
      "│            ┆ 77               ┆     ┆        ┆   ┆           ┆           ┆          ┆            │\n",
      "│ 2023-12-15 ┆ 04:00:00.0044698 ┆ K   ┆ 197.53 ┆ … ┆ null      ┆ N         ┆ AAPL     ┆ null       │\n",
      "│            ┆ 71               ┆     ┆        ┆   ┆           ┆           ┆          ┆            │\n",
      "│ 2023-12-15 ┆ 04:00:00.0045416 ┆ K   ┆ 197.53 ┆ … ┆ null      ┆ N         ┆ AAPL     ┆ null       │\n",
      "│            ┆ 97               ┆     ┆        ┆   ┆           ┆           ┆          ┆            │\n",
      "│ 2023-12-15 ┆ 04:00:00.0045787 ┆ K   ┆ 197.53 ┆ … ┆ null      ┆ N         ┆ AAPL     ┆ null       │\n",
      "│            ┆ 98               ┆     ┆        ┆   ┆           ┆           ┆          ┆            │\n",
      "│ 2023-12-15 ┆ 04:00:00.0046398 ┆ K   ┆ 197.53 ┆ … ┆ null      ┆ N         ┆ AAPL     ┆ null       │\n",
      "│            ┆ 31               ┆     ┆        ┆   ┆           ┆           ┆          ┆            │\n",
      "│ 2023-12-15 ┆ 04:00:00.0046597 ┆ K   ┆ 197.53 ┆ … ┆ null      ┆ N         ┆ AAPL     ┆ null       │\n",
      "│            ┆ 71               ┆     ┆        ┆   ┆           ┆           ┆          ┆            │\n",
      "│ 2023-12-15 ┆ 04:00:00.0047676 ┆ K   ┆ 197.53 ┆ … ┆ null      ┆ N         ┆ AAPL     ┆ null       │\n",
      "│            ┆ 12               ┆     ┆        ┆   ┆           ┆           ┆          ┆            │\n",
      "│ 2023-12-15 ┆ 04:00:00.0047875 ┆ K   ┆ 197.53 ┆ … ┆ null      ┆ N         ┆ AAPL     ┆ null       │\n",
      "│            ┆ 46               ┆     ┆        ┆   ┆           ┆           ┆          ┆            │\n",
      "└────────────┴──────────────────┴─────┴────────┴───┴───────────┴───────────┴──────────┴────────────┘\n"
     ]
    }
   ],
   "source": [
    "print(lazy_df.filter(pl.col(\"SYM_ROOT\") == \"AAPL\").head(10).collect())"
   ]
  },
  {
   "cell_type": "code",
   "execution_count": 7,
   "id": "6613e72e-8837-4b43-8179-e1ef2c1cb246",
   "metadata": {},
   "outputs": [
    {
     "name": "stdout",
     "output_type": "stream",
     "text": [
      "Schema({'DATE': Date, 'TIME_M': Time, 'EX': String, 'BID': Float64, 'BIDSIZ': Int64, 'ASK': Float64, 'ASKSIZ': Int64, 'QU_COND': String, 'QU_SEQNUM': Int64, 'NATBBO_IND': String, 'QU_CANCEL': String, 'QU_SOURCE': String, 'SYM_ROOT': String, 'SYM_SUFFIX': String})\n"
     ]
    }
   ],
   "source": [
    "import polars as pl\n",
    "import os\n",
    "\n",
    "# Define the directory and pattern\n",
    "directory = \"../TAQData/processed_output_quotes\"\n",
    "pattern = os.path.join(directory, \"chunk_*.parquet\")\n",
    "\n",
    "# Create a LazyFrame from all matching Parquet files\n",
    "lazy_df = pl.scan_parquet(pattern)\n",
    "\n",
    "# Access the schema (column names and types)\n",
    "schema = lazy_df.collect_schema()\n",
    "\n",
    "# Print the schema\n",
    "print(schema)"
   ]
  },
  {
   "cell_type": "code",
   "execution_count": 8,
   "id": "9e648e6a-c81f-41f4-b5f3-e4964cf5ec5a",
   "metadata": {},
   "outputs": [
    {
     "name": "stdout",
     "output_type": "stream",
     "text": [
      "shape: (10, 14)\n",
      "┌────────────┬────────────────────┬─────┬────────┬────────┬────────┬────────┬─────────┬───────────┬────────────┬───────────┬───────────┬──────────┬────────────┐\n",
      "│ DATE       ┆ TIME_M             ┆ EX  ┆ BID    ┆ BIDSIZ ┆ ASK    ┆ ASKSIZ ┆ QU_COND ┆ QU_SEQNUM ┆ NATBBO_IND ┆ QU_CANCEL ┆ QU_SOURCE ┆ SYM_ROOT ┆ SYM_SUFFIX │\n",
      "│ ---        ┆ ---                ┆ --- ┆ ---    ┆ ---    ┆ ---    ┆ ---    ┆ ---     ┆ ---       ┆ ---        ┆ ---       ┆ ---       ┆ ---      ┆ ---        │\n",
      "│ date       ┆ time               ┆ str ┆ f64    ┆ i64    ┆ f64    ┆ i64    ┆ str     ┆ i64       ┆ str        ┆ str       ┆ str       ┆ str      ┆ str        │\n",
      "╞════════════╪════════════════════╪═════╪════════╪════════╪════════╪════════╪═════════╪═══════════╪════════════╪═══════════╪═══════════╪══════════╪════════════╡\n",
      "│ 2023-12-15 ┆ 03:59:00.114925377 ┆ Z   ┆ 0.0    ┆ 0      ┆ 0.0    ┆ 0      ┆ L       ┆ 1103      ┆ 1          ┆ null      ┆ N         ┆ AAPL     ┆ null       │\n",
      "│ 2023-12-15 ┆ 03:59:00.185412294 ┆ K   ┆ 0.0    ┆ 0      ┆ 0.0    ┆ 0      ┆ L       ┆ 1999      ┆ 1          ┆ null      ┆ N         ┆ AAPL     ┆ null       │\n",
      "│ 2023-12-15 ┆ 04:00:00.004452377 ┆ K   ┆ 197.53 ┆ 2      ┆ 0.0    ┆ 0      ┆ Y       ┆ 3809      ┆ 2          ┆ null      ┆ N         ┆ AAPL     ┆ null       │\n",
      "│ 2023-12-15 ┆ 04:00:00.004469871 ┆ K   ┆ 197.53 ┆ 2      ┆ 199.38 ┆ 2      ┆ R       ┆ 3812      ┆ 4          ┆ null      ┆ N         ┆ AAPL     ┆ null       │\n",
      "│ 2023-12-15 ┆ 04:00:00.004541697 ┆ K   ┆ 197.53 ┆ 2      ┆ 199.38 ┆ 2      ┆ R       ┆ 3817      ┆ 0          ┆ null      ┆ N         ┆ AAPL     ┆ null       │\n",
      "│ 2023-12-15 ┆ 04:00:00.004578798 ┆ K   ┆ 197.53 ┆ 2      ┆ 199.38 ┆ 2      ┆ R       ┆ 3819      ┆ 0          ┆ null      ┆ N         ┆ AAPL     ┆ null       │\n",
      "│ 2023-12-15 ┆ 04:00:00.004639831 ┆ K   ┆ 197.53 ┆ 2      ┆ 198.72 ┆ 5      ┆ R       ┆ 3821      ┆ 4          ┆ null      ┆ N         ┆ AAPL     ┆ null       │\n",
      "│ 2023-12-15 ┆ 04:00:00.004659771 ┆ K   ┆ 197.53 ┆ 2      ┆ 198.5  ┆ 5      ┆ R       ┆ 3822      ┆ 4          ┆ null      ┆ N         ┆ AAPL     ┆ null       │\n",
      "│ 2023-12-15 ┆ 04:00:00.004767612 ┆ K   ┆ 197.53 ┆ 2      ┆ 198.4  ┆ 5      ┆ R       ┆ 3827      ┆ 4          ┆ null      ┆ N         ┆ AAPL     ┆ null       │\n",
      "│ 2023-12-15 ┆ 04:00:00.004787546 ┆ K   ┆ 197.53 ┆ 2      ┆ 198.3  ┆ 5      ┆ R       ┆ 3829      ┆ 4          ┆ null      ┆ N         ┆ AAPL     ┆ null       │\n",
      "└────────────┴────────────────────┴─────┴────────┴────────┴────────┴────────┴─────────┴───────────┴────────────┴───────────┴───────────┴──────────┴────────────┘\n"
     ]
    }
   ],
   "source": [
    "print(lazy_df.filter((pl.col('SYM_ROOT') == 'AAPL') & ( pl.col('BIDSIZ').is_not_null() )).head(10).collect() )"
   ]
  },
  {
   "cell_type": "code",
   "execution_count": 1,
   "id": "dafb3b0e-705c-4967-902c-483657072a13",
   "metadata": {},
   "outputs": [],
   "source": [
    "#run query.py for joint dataset\n",
    "#run stats.py for top 50"
   ]
  },
  {
   "cell_type": "code",
   "execution_count": 29,
   "id": "c5db4708-879f-4233-ad70-94d4da23f32f",
   "metadata": {},
   "outputs": [
    {
     "name": "stdout",
     "output_type": "stream",
     "text": [
      "--- Quote Rows Sum ---\n",
      "shape: (1, 1)\n",
      "┌──────────────────┐\n",
      "│ TOTAL_QUOTE_ROWS │\n",
      "│ ---              │\n",
      "│ i64              │\n",
      "╞══════════════════╡\n",
      "│ 328673090        │\n",
      "└──────────────────┘\n",
      "\n",
      "--- Trade Rows Sum ---\n",
      "shape: (1, 1)\n",
      "┌──────────────────┐\n",
      "│ TOTAL_TRADE_ROWS │\n",
      "│ ---              │\n",
      "│ i64              │\n",
      "╞══════════════════╡\n",
      "│ 9324631          │\n",
      "└──────────────────┘\n"
     ]
    }
   ],
   "source": [
    "#See the output of stats\n",
    "import polars as pl\n",
    "\n",
    "# Define the paths to your files\n",
    "quotes_file = \"stats_out_simple/top50_quotes_by_rows.csv\"\n",
    "trades_file = \"stats_out_simple/top50_trades_by_volume.csv\"\n",
    "\n",
    "# Load both files lazily\n",
    "lazy_quotes_df = pl.scan_csv(quotes_file)\n",
    "lazy_trades_df = pl.scan_csv(trades_file)\n",
    "\n",
    "# 1. Sum QUOTE_ROWS from the quotes file\n",
    "quote_rows_sum = (\n",
    "    lazy_quotes_df\n",
    "    .select(pl.col(\"QUOTES_ROWS\").sum().alias(\"TOTAL_QUOTE_ROWS\"))\n",
    "    .collect()\n",
    ")\n",
    "\n",
    "# 2. Sum TRADE_ROWS from the trades file\n",
    "trade_rows_sum = (\n",
    "    lazy_trades_df\n",
    "    .select(pl.col(\"TRADES_ROWS\").sum().alias(\"TOTAL_TRADE_ROWS\"))\n",
    "    .collect()\n",
    ")\n",
    "\n",
    "# Optional: Print the results\n",
    "print(\"--- Quote Rows Sum ---\")\n",
    "print(quote_rows_sum)\n",
    "print(\"\\n--- Trade Rows Sum ---\")\n",
    "print(trade_rows_sum)"
   ]
  },
  {
   "cell_type": "code",
   "execution_count": 25,
   "id": "e5b6283e-3d1f-4ab2-9c56-b475fb211c36",
   "metadata": {},
   "outputs": [
    {
     "name": "stdout",
     "output_type": "stream",
     "text": [
      "Reading stats_out_simple/top50_trades_by_volume.csv and stats_out_simple/top50_quotes_by_rows.csv …\n",
      "shape: (50, 4)\n",
      "┌──────────┬────────────┬─────────────┬────────────┐\n",
      "│ SYM_ROOT ┆ SYM_SUFFIX ┆ TRADES_ROWS ┆ TRADES_VOL │\n",
      "│ ---      ┆ ---        ┆ ---         ┆ ---        │\n",
      "│ str      ┆ str        ┆ i64         ┆ i64        │\n",
      "╞══════════╪════════════╪═════════════╪════════════╡\n",
      "│ TSLA     ┆            ┆ 1185389     ┆ 159068358  │\n",
      "│ SPY      ┆            ┆ 669221      ┆ 159259628  │\n",
      "│ AAPL     ┆            ┆ 625486      ┆ 183784854  │\n",
      "│ AMZN     ┆            ┆ 492794      ┆ 156092695  │\n",
      "│ UBER     ┆            ┆ 468538      ┆ 1145449108 │\n",
      "│ MSFT     ┆            ┆ 447207      ┆ 111464305  │\n",
      "│ CCCC     ┆            ┆ 339905      ┆ 85960043   │\n",
      "│ INTC     ┆            ┆ 337153      ┆ 114212069  │\n",
      "│ PFE      ┆            ┆ 301662      ┆ 287715357  │\n",
      "│ PLTR     ┆            ┆ 278350      ┆ 130424480  │\n",
      "│ GOOG     ┆            ┆ 266240      ┆ 87741515   │\n",
      "│ BAC      ┆            ┆ 242610      ┆ 168188495  │\n",
      "│ XOM      ┆            ┆ 200934      ┆ 107395694  │\n",
      "│ KO       ┆            ┆ 196026      ┆ 150147001  │\n",
      "│ WFC      ┆            ┆ 183420      ┆ 95522669   │\n",
      "│ BRSH     ┆            ┆ 181956      ┆ 126686402  │\n",
      "│ GETR     ┆            ┆ 178711      ┆ 132520578  │\n",
      "│ CSCO     ┆            ┆ 154779      ┆ 85838692   │\n",
      "│ SQQQ     ┆            ┆ 153421      ┆ 116591239  │\n",
      "│ LCID     ┆            ┆ 148142      ┆ 267717424  │\n",
      "│ F        ┆            ┆ 146562      ┆ 159652808  │\n",
      "│ VZ       ┆            ┆ 138780      ┆ 160288530  │\n",
      "│ NKLA     ┆            ┆ 133948      ┆ 205579985  │\n",
      "│ CMCS     ┆ A          ┆ 128238      ┆ 97882784   │\n",
      "│ SOXS     ┆            ┆ 126593      ┆ 107116392  │\n",
      "│ T        ┆            ┆ 120196      ┆ 172303560  │\n",
      "│ BMY      ┆            ┆ 112045      ┆ 111351302  │\n",
      "│ COP      ┆            ┆ 110077      ┆ 104894430  │\n",
      "│ XLF      ┆            ┆ 107168      ┆ 88012540   │\n",
      "│ PCG      ┆            ┆ 107080      ┆ 150877872  │\n",
      "│ EQH      ┆            ┆ 90397       ┆ 168333759  │\n",
      "│ NEM      ┆            ┆ 89459       ┆ 85825880   │\n",
      "│ HPQ      ┆            ┆ 78823       ┆ 87753386   │\n",
      "│ AMC      ┆            ┆ 78660       ┆ 85697833   │\n",
      "│ ET       ┆            ┆ 73651       ┆ 336730874  │\n",
      "│ NYCB     ┆            ┆ 73619       ┆ 86238257   │\n",
      "│ BETS     ┆            ┆ 69922       ┆ 356457754  │\n",
      "│ KMI      ┆            ┆ 58960       ┆ 93616474   │\n",
      "│ TELL     ┆            ┆ 49112       ┆ 214817614  │\n",
      "│ ALK      ┆            ┆ 44534       ┆ 95331745   │\n",
      "│ INPX     ┆            ┆ 41639       ┆ 87228890   │\n",
      "│ MULN     ┆            ┆ 41157       ┆ 87443664   │\n",
      "│ SWN      ┆            ┆ 40867       ┆ 121084035  │\n",
      "│ CYH      ┆            ┆ 40299       ┆ 125096151  │\n",
      "│ LUMN     ┆            ┆ 38142       ┆ 108416950  │\n",
      "│ SEE      ┆            ┆ 36568       ┆ 93338620   │\n",
      "│ BB       ┆            ┆ 30140       ┆ 85138280   │\n",
      "│ GMBL     ┆            ┆ 25561       ┆ 146970861  │\n",
      "│ NXU      ┆            ┆ 22786       ┆ 84670185   │\n",
      "│ VSTS     ┆            ┆ 17704       ┆ 86891662   │\n",
      "└──────────┴────────────┴─────────────┴────────────┘\n",
      "shape: (50, 3)\n",
      "┌──────────┬────────────┬─────────────┐\n",
      "│ SYM_ROOT ┆ SYM_SUFFIX ┆ QUOTES_ROWS │\n",
      "│ ---      ┆ ---        ┆ ---         │\n",
      "│ str      ┆ str        ┆ i64         │\n",
      "╞══════════╪════════════╪═════════════╡\n",
      "│ QQQ      ┆            ┆ 23188475    │\n",
      "│ SPY      ┆            ┆ 22131374    │\n",
      "│ IWM      ┆            ┆ 19103001    │\n",
      "│ TQQQ     ┆            ┆ 14772048    │\n",
      "│ AAPL     ┆            ┆ 9129733     │\n",
      "│ SOXL     ┆            ┆ 9064633     │\n",
      "│ TSLA     ┆            ┆ 8847235     │\n",
      "│ TNA      ┆            ┆ 8231565     │\n",
      "│ GOOG     ┆            ┆ 7974826     │\n",
      "│ SMH      ┆            ┆ 7883670     │\n",
      "│ AMZN     ┆            ┆ 7397949     │\n",
      "│ XLK      ┆            ┆ 7152815     │\n",
      "│ SPXL     ┆            ┆ 6615897     │\n",
      "│ XLY      ┆            ┆ 6542068     │\n",
      "│ GOOG     ┆ L          ┆ 6465782     │\n",
      "│ AMD      ┆            ┆ 6442342     │\n",
      "│ XOM      ┆            ┆ 6278941     │\n",
      "│ MSFT     ┆            ┆ 6235812     │\n",
      "│ UBER     ┆            ┆ 6124814     │\n",
      "│ ARKK     ┆            ┆ 5983059     │\n",
      "│ TZA      ┆            ┆ 5552289     │\n",
      "│ XLE      ┆            ┆ 5549166     │\n",
      "│ UPRO     ┆            ┆ 5282773     │\n",
      "│ IVV      ┆            ┆ 5254247     │\n",
      "│ SH       ┆            ┆ 4970830     │\n",
      "│ BABA     ┆            ┆ 4885256     │\n",
      "│ DIA      ┆            ┆ 4878482     │\n",
      "│ VOO      ┆            ┆ 4860995     │\n",
      "│ SQQQ     ┆            ┆ 4743359     │\n",
      "│ INTC     ┆            ┆ 4703089     │\n",
      "│ TLT      ┆            ┆ 4644210     │\n",
      "│ RIVN     ┆            ┆ 4642249     │\n",
      "│ MARA     ┆            ┆ 4634828     │\n",
      "│ QLD      ┆            ┆ 4477479     │\n",
      "│ KRE      ┆            ┆ 4299569     │\n",
      "│ VTI      ┆            ┆ 4228797     │\n",
      "│ MRVL     ┆            ┆ 4183227     │\n",
      "│ XLU      ┆            ┆ 4122000     │\n",
      "│ AFRM     ┆            ┆ 4116150     │\n",
      "│ TECL     ┆            ┆ 4109921     │\n",
      "│ SHOP     ┆            ┆ 4099988     │\n",
      "│ RSP      ┆            ┆ 4083130     │\n",
      "│ TSLL     ┆            ┆ 4039442     │\n",
      "│ XLV      ┆            ┆ 3949377     │\n",
      "│ GLD      ┆            ┆ 3940975     │\n",
      "│ RIOT     ┆            ┆ 3901314     │\n",
      "│ XBI      ┆            ┆ 3891053     │\n",
      "│ C        ┆            ┆ 3730547     │\n",
      "│ VTWO     ┆            ┆ 3702129     │\n",
      "│ PLTR     ┆            ┆ 3630180     │\n",
      "└──────────┴────────────┴─────────────┘\n"
     ]
    }
   ],
   "source": [
    "TRADES_OUT_CSV = OUT_DIR / \"top50_trades_by_volume.csv\"\n",
    "QUOTES_OUT_CSV = OUT_DIR / \"top50_quotes_by_rows.csv\"\n",
    "\n",
    "print(f\"Reading {TRADES_OUT_CSV} and {QUOTES_OUT_CSV} …\")\n",
    "trades_df = pl.read_csv(TRADES_OUT_CSV)\n",
    "quotes_df = pl.read_csv(QUOTES_OUT_CSV)\n",
    "\n",
    "print(trades_df.sort(\"TRADES_ROWS\", descending=True))\n",
    "print(quotes_df.sort(\"QUOTES_ROWS\", descending=True))"
   ]
  },
  {
   "cell_type": "code",
   "execution_count": 23,
   "id": "c5ff2924-de41-4b91-8f1b-c8cf2a75ee9a",
   "metadata": {},
   "outputs": [
    {
     "name": "stdout",
     "output_type": "stream",
     "text": [
      "Reading stats_out_simple/top50_trades_by_volume.csv and stats_out_simple/top50_quotes_by_rows.csv …\n",
      "\n",
      "Merged:\n",
      "shape: (11, 7)\n",
      "┌──────────┬────────────┬─────────────┬────────────┬────────────────┬──────────────────┬─────────────┐\n",
      "│ SYM_ROOT ┆ SYM_SUFFIX ┆ TRADES_ROWS ┆ TRADES_VOL ┆ SYM_ROOT_right ┆ SYM_SUFFIX_right ┆ QUOTES_ROWS │\n",
      "│ ---      ┆ ---        ┆ ---         ┆ ---        ┆ ---            ┆ ---              ┆ ---         │\n",
      "│ str      ┆ str        ┆ i64         ┆ i64        ┆ str            ┆ str              ┆ i64         │\n",
      "╞══════════╪════════════╪═════════════╪════════════╪════════════════╪══════════════════╪═════════════╡\n",
      "│ TSLA     ┆            ┆ 1185389     ┆ 159068358  ┆ TSLA           ┆                  ┆ 8847235     │\n",
      "│ SPY      ┆            ┆ 669221      ┆ 159259628  ┆ SPY            ┆                  ┆ 22131374    │\n",
      "│ AAPL     ┆            ┆ 625486      ┆ 183784854  ┆ AAPL           ┆                  ┆ 9129733     │\n",
      "│ AMZN     ┆            ┆ 492794      ┆ 156092695  ┆ AMZN           ┆                  ┆ 7397949     │\n",
      "│ UBER     ┆            ┆ 468538      ┆ 1145449108 ┆ UBER           ┆                  ┆ 6124814     │\n",
      "│ MSFT     ┆            ┆ 447207      ┆ 111464305  ┆ MSFT           ┆                  ┆ 6235812     │\n",
      "│ INTC     ┆            ┆ 337153      ┆ 114212069  ┆ INTC           ┆                  ┆ 4703089     │\n",
      "│ PLTR     ┆            ┆ 278350      ┆ 130424480  ┆ PLTR           ┆                  ┆ 3630180     │\n",
      "│ GOOG     ┆            ┆ 266240      ┆ 87741515   ┆ GOOG           ┆                  ┆ 7974826     │\n",
      "│ XOM      ┆            ┆ 200934      ┆ 107395694  ┆ XOM            ┆                  ┆ 6278941     │\n",
      "│ SQQQ     ┆            ┆ 153421      ┆ 116591239  ┆ SQQQ           ┆                  ┆ 4743359     │\n",
      "└──────────┴────────────┴─────────────┴────────────┴────────────────┴──────────────────┴─────────────┘\n",
      "\n",
      "✅ Combined file saved to → stats_out_simple/merged_top50_sorted.csv\n"
     ]
    },
    {
     "name": "stderr",
     "output_type": "stream",
     "text": [
      "/tmp/ipykernel_1305903/1662951033.py:17: DeprecationWarning: use of `how='outer'` should be replaced with `how='full'`.\n",
      "(Deprecated in version 0.20.29)\n",
      "  .join(quotes_df, on=[\"SYM_ROOT\", \"SYM_SUFFIX\"], how=\"outer\")\n"
     ]
    }
   ],
   "source": [
    "# join_trades_quotes.py — combine stats_simple outputs\n",
    "import polars as pl\n",
    "from pathlib import Path\n",
    "\n",
    "OUT_DIR = Path(\"./stats_out_simple\")\n",
    "TRADES_OUT_CSV = OUT_DIR / \"top50_trades_by_volume.csv\"\n",
    "QUOTES_OUT_CSV = OUT_DIR / \"top50_quotes_by_rows.csv\"\n",
    "MERGED_OUT_CSV = OUT_DIR / \"merged_top50_sorted.csv\"\n",
    "\n",
    "print(f\"Reading {TRADES_OUT_CSV} and {QUOTES_OUT_CSV} …\")\n",
    "trades_df = pl.read_csv(TRADES_OUT_CSV)\n",
    "quotes_df = pl.read_csv(QUOTES_OUT_CSV)\n",
    "\n",
    "# Join and sort descending by TRADES_VOL\n",
    "merged = (\n",
    "    trades_df\n",
    "    .join(quotes_df, on=[\"SYM_ROOT\", \"SYM_SUFFIX\"], how=\"outer\")\n",
    "#    .with_columns([\n",
    "#        pl.col(\"TRADES_VOL\").fill_null(0),\n",
    "#        pl.col(\"TRADES_ROWS\").fill_null(0),\n",
    "#        pl.col(\"QUOTES_ROWS\").fill_null(0)\n",
    "#    ])\n",
    "    .filter(pl.col(\"QUOTES_ROWS\").is_not_null())\n",
    "    .filter(pl.col(\"TRADES_VOL\").is_not_null())\n",
    "    .sort(\"TRADES_ROWS\", descending=True)\n",
    "    \n",
    ")\n",
    "\n",
    "print(\"\\nMerged:\")\n",
    "print(merged)\n",
    "\n",
    "merged.write_csv(MERGED_OUT_CSV)\n",
    "print(f\"\\n✅ Combined file saved to → {MERGED_OUT_CSV}\")\n"
   ]
  },
  {
   "cell_type": "code",
   "execution_count": 34,
   "id": "2e718f6c-57f0-45bf-9fec-71cf48680f7e",
   "metadata": {},
   "outputs": [
    {
     "data": {
      "text/plain": [
       "'\\nOUT_DIR = Path(\"./stats_out_simple\")\\nMERGED_OUT_CSV = OUT_DIR / \"merged_top50_sorted.csv\"\\nprint(f\"Reading {MERGED_OUT_CSV} …\")\\nmerged_df = pl.read_csv(MERGED_OUT_CSV)\\nprint(merged_df)\\n'"
      ]
     },
     "execution_count": 34,
     "metadata": {},
     "output_type": "execute_result"
    }
   ],
   "source": [
    "# top50_trades_corresponding_quotes.py\n",
    "'''\n",
    "   • TRADES saved rows total: 9,324,631\n",
    "   • QUOTES saved rows total: 128,520,108\n",
    "   • Summary CSV: /home/amazon/gitcode/WithAmitG/TAQCode/stats_out_simple/merged_top50_sorted.csv\n",
    "'''\n",
    "'''\n",
    "OUT_DIR = Path(\"./stats_out_simple\")\n",
    "MERGED_OUT_CSV = OUT_DIR / \"merged_top50_sorted.csv\"\n",
    "print(f\"Reading {MERGED_OUT_CSV} …\")\n",
    "merged_df = pl.read_csv(MERGED_OUT_CSV)\n",
    "print(merged_df)\n",
    "'''"
   ]
  },
  {
   "cell_type": "code",
   "execution_count": 37,
   "id": "c8c7a6d8-7cae-4dc2-8312-aa027f8f4e8f",
   "metadata": {},
   "outputs": [
    {
     "name": "stdout",
     "output_type": "stream",
     "text": [
      "1.5G\t/home/amazon/Documents/TAQData/merged_output_top50/merged_all.parquet\n",
      "1.5G\ttotal\n",
      "shows top 50 tickers TAQ is not big\n"
     ]
    }
   ],
   "source": [
    "#top50_trades_corresponding_quotes.py\n",
    "#top50_trades_corresponding_quotes_persist.py\n",
    "!du -hc ~/Documents/TAQData/merged_output_top50/merged_all.parquet\n",
    "print('shows top 50 tickers TAQ is not big')"
   ]
  },
  {
   "cell_type": "code",
   "execution_count": 39,
   "id": "da2f7ec5-5eb3-491c-97fe-2ccaca2662f4",
   "metadata": {},
   "outputs": [
    {
     "name": "stdout",
     "output_type": "stream",
     "text": [
      "\n",
      "🔎 Microstructure analysis for: UBER\n"
     ]
    },
    {
     "name": "stderr",
     "output_type": "stream",
     "text": [
      "/home/amazon/gitcode/WithAmitG/TAQCode/ms.py:157: DeprecationWarning: the `streaming` parameter was deprecated in 1.25.0; use `engine` instead.\n"
     ]
    },
    {
     "name": "stdout",
     "output_type": "stream",
     "text": [
      "shape: (1, 19)\n",
      "┌────────┬────────────┬─────────┬────────────┬───────────┬────────────┬────────────┬────────────┬────────────┬────────────┬────────────┬────────────┬────────────┬────────────┬────────────┬────────────┬────────────┬────────────┬────────────┐\n",
      "│ TICKER ┆ FWD_TRADES ┆ N_ROWS  ┆ TOTAL_SIZE ┆ VWAP      ┆ AVG_SPREAD ┆ AVG_DEPTH_ ┆ IS_MEAN_BP ┆ IS_MEDIAN_ ┆ IS_MIN_BPS ┆ IS_MAX_BPS ┆ MI_MEAN_BP ┆ MI_MEDIAN_ ┆ MI_MIN_BPS ┆ MI_MAX_BPS ┆ MR_MEAN_BP ┆ MR_MEDIAN_ ┆ MR_MIN_BPS ┆ MR_MAX_BPS │\n",
      "│ ---    ┆ _FOR_MR    ┆ ---     ┆ ---        ┆ ---       ┆ _BPS       ┆ TOB        ┆ S          ┆ BPS        ┆ ---        ┆ ---        ┆ S          ┆ BPS        ┆ ---        ┆ ---        ┆ S          ┆ BPS        ┆ ---        ┆ ---        │\n",
      "│ str    ┆ ---        ┆ u32     ┆ i32        ┆ f64       ┆ ---        ┆ ---        ┆ ---        ┆ ---        ┆ f64        ┆ f64        ┆ ---        ┆ ---        ┆ f64        ┆ f64        ┆ ---        ┆ ---        ┆ f64        ┆ f64        │\n",
      "│        ┆ i32        ┆         ┆            ┆           ┆ f64        ┆ f64        ┆ f64        ┆ f64        ┆            ┆            ┆ f64        ┆ f64        ┆            ┆            ┆ f64        ┆ f64        ┆            ┆            │\n",
      "╞════════╪════════════╪═════════╪════════════╪═══════════╪════════════╪════════════╪════════════╪════════════╪════════════╪════════════╪════════════╪════════════╪════════════╪════════════╪════════════╪════════════╪════════════╪════════════╡\n",
      "│ UBER   ┆ 10         ┆ 6124814 ┆ 462606101  ┆ 62.814859 ┆ 3205.32677 ┆ 12.365596  ┆ 10.633674  ┆ 1.1464e-12 ┆ -31200.0   ┆ 31133.3333 ┆ -16.741775 ┆ 0.0        ┆ -31470.0   ┆ 31133.3333 ┆ -16.057589 ┆ 0.0        ┆ -31470.0   ┆ 21295.0    │\n",
      "│        ┆            ┆         ┆            ┆           ┆ 4          ┆            ┆            ┆            ┆            ┆ 33         ┆            ┆            ┆            ┆ 33         ┆            ┆            ┆            ┆            │\n",
      "└────────┴────────────┴─────────┴────────────┴───────────┴────────────┴────────────┴────────────┴────────────┴────────────┴────────────┴────────────┴────────────┴────────────┴────────────┴────────────┴────────────┴────────────┴────────────┘\n",
      "💾 Saved → /home/amazon/gitcode/WithAmitG/TAQCode/ms_out/ms_summary_UBER.csv  |  ⏱ 1.03s\n"
     ]
    }
   ],
   "source": [
    "#ms.py for microstructure\n",
    "%run ms.py"
   ]
  },
  {
   "cell_type": "code",
   "execution_count": null,
   "id": "13d60895-6079-4261-91d3-3d96afc7f58c",
   "metadata": {},
   "outputs": [],
   "source": []
  }
 ],
 "metadata": {
  "kernelspec": {
   "display_name": "Python 3 (ipykernel)",
   "language": "python",
   "name": "python3"
  },
  "language_info": {
   "codemirror_mode": {
    "name": "ipython",
    "version": 3
   },
   "file_extension": ".py",
   "mimetype": "text/x-python",
   "name": "python",
   "nbconvert_exporter": "python",
   "pygments_lexer": "ipython3",
   "version": "3.13.5"
  }
 },
 "nbformat": 4,
 "nbformat_minor": 5
}
